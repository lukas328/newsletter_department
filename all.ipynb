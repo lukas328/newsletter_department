{
 "cells": [
  {
   "cell_type": "code",
   "execution_count": 2,
   "id": "0c5d3f92",
   "metadata": {},
   "outputs": [
    {
     "name": "stdout",
     "output_type": "stream",
     "text": [
      "Requirement already satisfied: python-dotenv in c:\\users\\lukasdech\\appdata\\local\\programs\\python\\python312\\lib\\site-packages (from -r requirements.txt (line 2)) (1.1.0)\n",
      "Requirement already satisfied: pydantic in c:\\users\\lukasdech\\appdata\\local\\programs\\python\\python312\\lib\\site-packages (from -r requirements.txt (line 3)) (2.11.5)\n",
      "Requirement already satisfied: requests in c:\\users\\lukasdech\\appdata\\local\\programs\\python\\python312\\lib\\site-packages (from -r requirements.txt (line 4)) (2.32.3)\n",
      "Collecting langchain-openai (from -r requirements.txt (line 5))\n",
      "  Downloading langchain_openai-0.3.19-py3-none-any.whl.metadata (2.3 kB)\n",
      "Requirement already satisfied: ebooklib in c:\\users\\lukasdech\\appdata\\local\\programs\\python\\python312\\lib\\site-packages (from -r requirements.txt (line 6)) (0.19)\n",
      "Requirement already satisfied: google-api-python-client in c:\\users\\lukasdech\\appdata\\local\\programs\\python\\python312\\lib\\site-packages (from -r requirements.txt (line 7)) (2.171.0)\n",
      "Requirement already satisfied: google-auth in c:\\users\\lukasdech\\appdata\\local\\programs\\python\\python312\\lib\\site-packages (from -r requirements.txt (line 8)) (2.40.2)\n",
      "Requirement already satisfied: annotated-types>=0.6.0 in c:\\users\\lukasdech\\appdata\\local\\programs\\python\\python312\\lib\\site-packages (from pydantic->-r requirements.txt (line 3)) (0.7.0)\n",
      "Requirement already satisfied: pydantic-core==2.33.2 in c:\\users\\lukasdech\\appdata\\local\\programs\\python\\python312\\lib\\site-packages (from pydantic->-r requirements.txt (line 3)) (2.33.2)\n",
      "Requirement already satisfied: typing-extensions>=4.12.2 in c:\\users\\lukasdech\\appdata\\local\\programs\\python\\python312\\lib\\site-packages (from pydantic->-r requirements.txt (line 3)) (4.13.2)\n",
      "Requirement already satisfied: typing-inspection>=0.4.0 in c:\\users\\lukasdech\\appdata\\local\\programs\\python\\python312\\lib\\site-packages (from pydantic->-r requirements.txt (line 3)) (0.4.1)\n",
      "Requirement already satisfied: charset-normalizer<4,>=2 in c:\\users\\lukasdech\\appdata\\local\\programs\\python\\python312\\lib\\site-packages (from requests->-r requirements.txt (line 4)) (3.4.2)\n",
      "Requirement already satisfied: idna<4,>=2.5 in c:\\users\\lukasdech\\appdata\\local\\programs\\python\\python312\\lib\\site-packages (from requests->-r requirements.txt (line 4)) (3.10)\n",
      "Requirement already satisfied: urllib3<3,>=1.21.1 in c:\\users\\lukasdech\\appdata\\local\\programs\\python\\python312\\lib\\site-packages (from requests->-r requirements.txt (line 4)) (2.4.0)\n",
      "Requirement already satisfied: certifi>=2017.4.17 in c:\\users\\lukasdech\\appdata\\local\\programs\\python\\python312\\lib\\site-packages (from requests->-r requirements.txt (line 4)) (2025.4.26)\n",
      "Requirement already satisfied: langchain-core<1.0.0,>=0.3.63 in c:\\users\\lukasdech\\appdata\\local\\programs\\python\\python312\\lib\\site-packages (from langchain-openai->-r requirements.txt (line 5)) (0.3.63)\n",
      "Requirement already satisfied: openai<2.0.0,>=1.68.2 in c:\\users\\lukasdech\\appdata\\local\\programs\\python\\python312\\lib\\site-packages (from langchain-openai->-r requirements.txt (line 5)) (1.82.0)\n",
      "Collecting tiktoken<1,>=0.7 (from langchain-openai->-r requirements.txt (line 5))\n",
      "  Downloading tiktoken-0.9.0-cp312-cp312-win_amd64.whl.metadata (6.8 kB)\n",
      "Requirement already satisfied: lxml in c:\\users\\lukasdech\\appdata\\local\\programs\\python\\python312\\lib\\site-packages (from ebooklib->-r requirements.txt (line 6)) (5.4.0)\n",
      "Requirement already satisfied: six in c:\\users\\lukasdech\\appdata\\roaming\\python\\python312\\site-packages (from ebooklib->-r requirements.txt (line 6)) (1.17.0)\n",
      "Requirement already satisfied: httplib2<1.0.0,>=0.19.0 in c:\\users\\lukasdech\\appdata\\local\\programs\\python\\python312\\lib\\site-packages (from google-api-python-client->-r requirements.txt (line 7)) (0.22.0)\n",
      "Requirement already satisfied: google-auth-httplib2<1.0.0,>=0.2.0 in c:\\users\\lukasdech\\appdata\\local\\programs\\python\\python312\\lib\\site-packages (from google-api-python-client->-r requirements.txt (line 7)) (0.2.0)\n",
      "Requirement already satisfied: google-api-core!=2.0.*,!=2.1.*,!=2.2.*,!=2.3.0,<3.0.0,>=1.31.5 in c:\\users\\lukasdech\\appdata\\local\\programs\\python\\python312\\lib\\site-packages (from google-api-python-client->-r requirements.txt (line 7)) (2.25.0)\n",
      "Requirement already satisfied: uritemplate<5,>=3.0.1 in c:\\users\\lukasdech\\appdata\\local\\programs\\python\\python312\\lib\\site-packages (from google-api-python-client->-r requirements.txt (line 7)) (4.2.0)\n",
      "Requirement already satisfied: cachetools<6.0,>=2.0.0 in c:\\users\\lukasdech\\appdata\\local\\programs\\python\\python312\\lib\\site-packages (from google-auth->-r requirements.txt (line 8)) (5.5.2)\n",
      "Requirement already satisfied: pyasn1-modules>=0.2.1 in c:\\users\\lukasdech\\appdata\\local\\programs\\python\\python312\\lib\\site-packages (from google-auth->-r requirements.txt (line 8)) (0.4.2)\n",
      "Requirement already satisfied: rsa<5,>=3.1.4 in c:\\users\\lukasdech\\appdata\\local\\programs\\python\\python312\\lib\\site-packages (from google-auth->-r requirements.txt (line 8)) (4.9.1)\n",
      "Requirement already satisfied: googleapis-common-protos<2.0.0,>=1.56.2 in c:\\users\\lukasdech\\appdata\\local\\programs\\python\\python312\\lib\\site-packages (from google-api-core!=2.0.*,!=2.1.*,!=2.2.*,!=2.3.0,<3.0.0,>=1.31.5->google-api-python-client->-r requirements.txt (line 7)) (1.70.0)\n",
      "Requirement already satisfied: protobuf!=3.20.0,!=3.20.1,!=4.21.0,!=4.21.1,!=4.21.2,!=4.21.3,!=4.21.4,!=4.21.5,<7.0.0,>=3.19.5 in c:\\users\\lukasdech\\appdata\\local\\programs\\python\\python312\\lib\\site-packages (from google-api-core!=2.0.*,!=2.1.*,!=2.2.*,!=2.3.0,<3.0.0,>=1.31.5->google-api-python-client->-r requirements.txt (line 7)) (6.31.1)\n",
      "Requirement already satisfied: proto-plus<2.0.0,>=1.22.3 in c:\\users\\lukasdech\\appdata\\local\\programs\\python\\python312\\lib\\site-packages (from google-api-core!=2.0.*,!=2.1.*,!=2.2.*,!=2.3.0,<3.0.0,>=1.31.5->google-api-python-client->-r requirements.txt (line 7)) (1.26.1)\n",
      "Requirement already satisfied: pyparsing!=3.0.0,!=3.0.1,!=3.0.2,!=3.0.3,<4,>=2.4.2 in c:\\users\\lukasdech\\appdata\\local\\programs\\python\\python312\\lib\\site-packages (from httplib2<1.0.0,>=0.19.0->google-api-python-client->-r requirements.txt (line 7)) (3.2.3)\n",
      "Requirement already satisfied: langsmith<0.4,>=0.1.126 in c:\\users\\lukasdech\\appdata\\local\\programs\\python\\python312\\lib\\site-packages (from langchain-core<1.0.0,>=0.3.63->langchain-openai->-r requirements.txt (line 5)) (0.3.45)\n",
      "Requirement already satisfied: tenacity!=8.4.0,<10.0.0,>=8.1.0 in c:\\users\\lukasdech\\appdata\\local\\programs\\python\\python312\\lib\\site-packages (from langchain-core<1.0.0,>=0.3.63->langchain-openai->-r requirements.txt (line 5)) (9.1.2)\n",
      "Requirement already satisfied: jsonpatch<2.0,>=1.33 in c:\\users\\lukasdech\\appdata\\local\\programs\\python\\python312\\lib\\site-packages (from langchain-core<1.0.0,>=0.3.63->langchain-openai->-r requirements.txt (line 5)) (1.33)\n",
      "Requirement already satisfied: PyYAML>=5.3 in c:\\users\\lukasdech\\appdata\\local\\programs\\python\\python312\\lib\\site-packages (from langchain-core<1.0.0,>=0.3.63->langchain-openai->-r requirements.txt (line 5)) (6.0.2)\n",
      "Requirement already satisfied: packaging<25,>=23.2 in c:\\users\\lukasdech\\appdata\\local\\programs\\python\\python312\\lib\\site-packages (from langchain-core<1.0.0,>=0.3.63->langchain-openai->-r requirements.txt (line 5)) (24.2)\n",
      "Requirement already satisfied: anyio<5,>=3.5.0 in c:\\users\\lukasdech\\appdata\\local\\programs\\python\\python312\\lib\\site-packages (from openai<2.0.0,>=1.68.2->langchain-openai->-r requirements.txt (line 5)) (4.9.0)\n",
      "Requirement already satisfied: distro<2,>=1.7.0 in c:\\users\\lukasdech\\appdata\\local\\programs\\python\\python312\\lib\\site-packages (from openai<2.0.0,>=1.68.2->langchain-openai->-r requirements.txt (line 5)) (1.9.0)\n",
      "Requirement already satisfied: httpx<1,>=0.23.0 in c:\\users\\lukasdech\\appdata\\local\\programs\\python\\python312\\lib\\site-packages (from openai<2.0.0,>=1.68.2->langchain-openai->-r requirements.txt (line 5)) (0.28.1)\n",
      "Requirement already satisfied: jiter<1,>=0.4.0 in c:\\users\\lukasdech\\appdata\\local\\programs\\python\\python312\\lib\\site-packages (from openai<2.0.0,>=1.68.2->langchain-openai->-r requirements.txt (line 5)) (0.10.0)\n",
      "Requirement already satisfied: sniffio in c:\\users\\lukasdech\\appdata\\local\\programs\\python\\python312\\lib\\site-packages (from openai<2.0.0,>=1.68.2->langchain-openai->-r requirements.txt (line 5)) (1.3.1)\n",
      "Requirement already satisfied: tqdm>4 in c:\\users\\lukasdech\\appdata\\local\\programs\\python\\python312\\lib\\site-packages (from openai<2.0.0,>=1.68.2->langchain-openai->-r requirements.txt (line 5)) (4.67.1)\n",
      "Requirement already satisfied: pyasn1<0.7.0,>=0.6.1 in c:\\users\\lukasdech\\appdata\\local\\programs\\python\\python312\\lib\\site-packages (from pyasn1-modules>=0.2.1->google-auth->-r requirements.txt (line 8)) (0.6.1)\n",
      "Collecting regex>=2022.1.18 (from tiktoken<1,>=0.7->langchain-openai->-r requirements.txt (line 5))\n",
      "  Downloading regex-2024.11.6-cp312-cp312-win_amd64.whl.metadata (41 kB)\n",
      "Requirement already satisfied: httpcore==1.* in c:\\users\\lukasdech\\appdata\\local\\programs\\python\\python312\\lib\\site-packages (from httpx<1,>=0.23.0->openai<2.0.0,>=1.68.2->langchain-openai->-r requirements.txt (line 5)) (1.0.9)\n",
      "Requirement already satisfied: h11>=0.16 in c:\\users\\lukasdech\\appdata\\local\\programs\\python\\python312\\lib\\site-packages (from httpcore==1.*->httpx<1,>=0.23.0->openai<2.0.0,>=1.68.2->langchain-openai->-r requirements.txt (line 5)) (0.16.0)\n",
      "Requirement already satisfied: jsonpointer>=1.9 in c:\\users\\lukasdech\\appdata\\local\\programs\\python\\python312\\lib\\site-packages (from jsonpatch<2.0,>=1.33->langchain-core<1.0.0,>=0.3.63->langchain-openai->-r requirements.txt (line 5)) (3.0.0)\n",
      "Requirement already satisfied: orjson<4.0.0,>=3.9.14 in c:\\users\\lukasdech\\appdata\\local\\programs\\python\\python312\\lib\\site-packages (from langsmith<0.4,>=0.1.126->langchain-core<1.0.0,>=0.3.63->langchain-openai->-r requirements.txt (line 5)) (3.10.18)\n",
      "Requirement already satisfied: requests-toolbelt<2.0.0,>=1.0.0 in c:\\users\\lukasdech\\appdata\\local\\programs\\python\\python312\\lib\\site-packages (from langsmith<0.4,>=0.1.126->langchain-core<1.0.0,>=0.3.63->langchain-openai->-r requirements.txt (line 5)) (1.0.0)\n",
      "Requirement already satisfied: zstandard<0.24.0,>=0.23.0 in c:\\users\\lukasdech\\appdata\\local\\programs\\python\\python312\\lib\\site-packages (from langsmith<0.4,>=0.1.126->langchain-core<1.0.0,>=0.3.63->langchain-openai->-r requirements.txt (line 5)) (0.23.0)\n",
      "Requirement already satisfied: colorama in c:\\users\\lukasdech\\appdata\\roaming\\python\\python312\\site-packages (from tqdm>4->openai<2.0.0,>=1.68.2->langchain-openai->-r requirements.txt (line 5)) (0.4.6)\n",
      "Downloading langchain_openai-0.3.19-py3-none-any.whl (64 kB)\n",
      "Downloading tiktoken-0.9.0-cp312-cp312-win_amd64.whl (894 kB)\n",
      "   ---------------------------------------- 0.0/894.9 kB ? eta -:--:--\n",
      "   ----------------------- ---------------- 524.3/894.9 kB 2.4 MB/s eta 0:00:01\n",
      "   ---------------------------------------- 894.9/894.9 kB 2.5 MB/s eta 0:00:00\n",
      "Downloading regex-2024.11.6-cp312-cp312-win_amd64.whl (273 kB)\n",
      "Installing collected packages: regex, tiktoken, langchain-openai\n",
      "Successfully installed langchain-openai-0.3.19 regex-2024.11.6 tiktoken-0.9.0\n",
      "Note: you may need to restart the kernel to use updated packages.\n"
     ]
    },
    {
     "name": "stderr",
     "output_type": "stream",
     "text": [
      "\n",
      "[notice] A new release of pip is available: 25.0.1 -> 25.1.1\n",
      "[notice] To update, run: python.exe -m pip install --upgrade pip\n"
     ]
    }
   ],
   "source": [
    "pip install -r requirements.txt\n"
   ]
  },
  {
   "cell_type": "code",
   "execution_count": null,
   "id": "e5b4bfa6",
   "metadata": {},
   "outputs": [],
   "source": []
  }
 ],
 "metadata": {
  "kernelspec": {
   "display_name": "Python 3",
   "language": "python",
   "name": "python3"
  },
  "language_info": {
   "codemirror_mode": {
    "name": "ipython",
    "version": 3
   },
   "file_extension": ".py",
   "mimetype": "text/x-python",
   "name": "python",
   "nbconvert_exporter": "python",
   "pygments_lexer": "ipython3",
   "version": "3.12.10"
  }
 },
 "nbformat": 4,
 "nbformat_minor": 5
}
